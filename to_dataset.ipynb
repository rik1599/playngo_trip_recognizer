{
 "cells": [
  {
   "cell_type": "code",
   "execution_count": 2,
   "metadata": {},
   "outputs": [
    {
     "data": {
      "text/plain": [
       "['./data/2023-02-L-tracks.json',\n",
       " './data/2023-02-TN-tracks.json',\n",
       " './data/2023-03-L-tracks.json',\n",
       " './data/2023-03-TN-tracks.json',\n",
       " './data/2023-04-L-tracks.json',\n",
       " './data/2023-04-TN-tracks.json',\n",
       " './data/2023-05-L-tracks.json',\n",
       " './data/2023-05-TN-tracks.json',\n",
       " './data/2023-06-L-tracks.json',\n",
       " './data/2023-06-TN-tracks.json',\n",
       " './data/2023-07-L-tracks.json',\n",
       " './data/2023-07-TN-tracks.json',\n",
       " './data/2023-08-L-tracks.json',\n",
       " './data/2023-08-TN-tracks.json',\n",
       " './data/2023-09-L-tracks.json',\n",
       " './data/2023-09-TN-tracks.json',\n",
       " './data/2023-10-L-tracks.json',\n",
       " './data/2023-10-TN-tracks.json',\n",
       " './data/2023-11-L-tracks.json',\n",
       " './data/2023-11-TN-tracks.json',\n",
       " './data/2023-12-L-tracks.json',\n",
       " './data/2023-12-TN-tracks.json',\n",
       " './data/2024-01-L-tracks.json',\n",
       " './data/2024-01-TN-tracks.json',\n",
       " './data/2024-02-L-tracks.json',\n",
       " './data/2024-02-TN-tracks.json',\n",
       " './data/2024-03-L-tracks.json',\n",
       " './data/2024-03-TN-tracks.json',\n",
       " './data/2024-04-L-tracks.json',\n",
       " './data/2024-04-TN-tracks.json',\n",
       " './data/2024-05-L-tracks.json',\n",
       " './data/2024-05-TN-tracks.json',\n",
       " './data/2024-06-L-tracks.json',\n",
       " './data/2024-06-TN-tracks.json',\n",
       " './data/2024-07-L-tracks.json',\n",
       " './data/2024-07-TN-tracks.json']"
      ]
     },
     "execution_count": 2,
     "metadata": {},
     "output_type": "execute_result"
    }
   ],
   "source": [
    "import os\n",
    "from datasets import load_dataset, concatenate_datasets\n",
    "from tqdm.auto import tqdm\n",
    "\n",
    "files = [\n",
    "    os.path.join(\"./data/\", f) for f in os.listdir(\"./data/\") if f.endswith(\".json\")\n",
    "]\n",
    "files = sorted(files)\n",
    "\n",
    "files"
   ]
  },
  {
   "cell_type": "code",
   "execution_count": 2,
   "metadata": {},
   "outputs": [],
   "source": [
    "def preprocess(example):\n",
    "    data = {}\n",
    "    data['startTime'] = example['startTime']['$date']\n",
    "    data['geolocationEvents'] = [{\n",
    "        'accuracy': event['accuracy'],\n",
    "        'altitude': event['altitude'],\n",
    "        'heading': event['heading'],\n",
    "        'is_moving': event['is_moving'],\n",
    "        'latitude': event['latitude'],\n",
    "        'longitude': event['longitude'],\n",
    "        'speed': event['speed'],\n",
    "    } for event in example[\"geolocationEvents\"]]\n",
    "\n",
    "    return data"
   ]
  },
  {
   "cell_type": "code",
   "execution_count": null,
   "metadata": {},
   "outputs": [],
   "source": [
    "def select_columns_and_preprocess(chunks: list):\n",
    "    dataset = load_dataset(\"json\", data_files=chunks[0], split='train').select_columns(['userId', 'geolocationEvents', 'startTime'])\n",
    "    dataset = dataset.map(preprocess, num_proc=min(os.cpu_count(), len(dataset)))\n",
    "\n",
    "    if len(chunks) == 1:\n",
    "        return dataset\n",
    "    return concatenate_datasets([dataset, select_columns_and_preprocess(chunks[1:])])"
   ]
  }
 ],
 "metadata": {
  "kernelspec": {
   "display_name": "Python 3",
   "language": "python",
   "name": "python3"
  },
  "language_info": {
   "codemirror_mode": {
    "name": "ipython",
    "version": 3
   },
   "file_extension": ".py",
   "mimetype": "text/x-python",
   "name": "python",
   "nbconvert_exporter": "python",
   "pygments_lexer": "ipython3",
   "version": "3.12.5"
  }
 },
 "nbformat": 4,
 "nbformat_minor": 2
}
