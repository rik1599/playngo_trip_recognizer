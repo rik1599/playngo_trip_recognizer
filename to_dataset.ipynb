{
 "cells": [
  {
   "cell_type": "code",
   "execution_count": null,
   "metadata": {},
   "outputs": [],
   "source": [
    "import os\n",
    "\n",
    "files = [\n",
    "    os.path.join(\"./data/\", f) for f in os.listdir(\"./data/\") if f.endswith(\".json\")\n",
    "]\n",
    "\n",
    "files"
   ]
  },
  {
   "cell_type": "code",
   "execution_count": null,
   "metadata": {},
   "outputs": [],
   "source": [
    "def preprocess(example):\n",
    "    data = {}\n",
    "    data['startTime'] = example['startTime']['$date']\n",
    "    data['geolocationEvents'] = [{\n",
    "        'accuracy': event['accuracy'],\n",
    "        'altitude': event['altitude'],\n",
    "        'heading': event['heading'],\n",
    "        'is_moving': event['is_moving'],\n",
    "        'latitude': event['latitude'],\n",
    "        'longitude': event['longitude'],\n",
    "        'speed': event['speed'],\n",
    "    } for event in example[\"geolocationEvents\"]]\n",
    "\n",
    "    return data"
   ]
  },
  {
   "cell_type": "code",
   "execution_count": null,
   "metadata": {},
   "outputs": [],
   "source": [
    "from datasets import load_dataset, concatenate_datasets\n",
    "from tqdm.auto import tqdm\n",
    "\n",
    "datasets = [\n",
    "    load_dataset(\"json\", data_files=f, split='train').select_columns(['userId', 'geolocationEvents', 'startTime']).map(preprocess, num_proc=8)\n",
    "    for f in tqdm(files)\n",
    "]\n",
    "\n",
    "datasets = concatenate_datasets(datasets)\n",
    "\n",
    "datasets"
   ]
  }
 ],
 "metadata": {
  "kernelspec": {
   "display_name": "Python 3",
   "language": "python",
   "name": "python3"
  },
  "language_info": {
   "codemirror_mode": {
    "name": "ipython",
    "version": 3
   },
   "file_extension": ".py",
   "mimetype": "text/x-python",
   "name": "python",
   "nbconvert_exporter": "python",
   "pygments_lexer": "ipython3",
   "version": "3.10.14"
  }
 },
 "nbformat": 4,
 "nbformat_minor": 2
}
