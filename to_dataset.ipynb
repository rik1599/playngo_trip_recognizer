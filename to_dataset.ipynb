{
 "cells": [
  {
   "cell_type": "code",
   "execution_count": 1,
   "metadata": {},
   "outputs": [],
   "source": [
    "import os\n",
    "from datasets import load_dataset, concatenate_datasets\n",
    "from tqdm.auto import tqdm\n",
    "\n",
    "files = [\n",
    "    os.path.join(\"./data/\", f) for f in os.listdir(\"./data/\") if f.endswith(\".json\")\n",
    "]\n",
    "files = sorted(files)"
   ]
  },
  {
   "cell_type": "code",
   "execution_count": 2,
   "metadata": {},
   "outputs": [
    {
     "data": {
      "application/vnd.jupyter.widget-view+json": {
       "model_id": "9daba61eda964564a6ea3ebaf7dc4438",
       "version_major": 2,
       "version_minor": 0
      },
      "text/plain": [
       "  0%|          | 0/36 [00:00<?, ?it/s]"
      ]
     },
     "metadata": {},
     "output_type": "display_data"
    }
   ],
   "source": [
    "def preprocess(example):\n",
    "    data = {}\n",
    "    data['startTime'] = example['startTime']['$date']\n",
    "\n",
    "    data['geolocationEvents'] = sorted([{\n",
    "        'timestamp': event['recorded_at']['$date'],\n",
    "        'accuracy': event['accuracy'],\n",
    "        'latitude': event['latitude'],\n",
    "        'longitude': event['longitude'],\n",
    "        'altitude': event['altitude'],\n",
    "        'speed': event['speed'],\n",
    "        'heading': event['heading'],\n",
    "    } for event in example[\"geolocationEvents\"]], key=lambda x: x['timestamp'])\n",
    "\n",
    "    return data\n",
    "\n",
    "\n",
    "def select_columns_and_preprocess(chunk):\n",
    "    dataset = load_dataset(\"json\", data_files=chunk, split='train')\n",
    "    dataset = dataset.map(preprocess, num_proc=min(\n",
    "        os.cpu_count(), len(dataset)))\n",
    "    dataset = dataset.select_columns(\n",
    "        ['userId', 'geolocationEvents', 'startTime'])\n",
    "    return dataset\n",
    "\n",
    "\n",
    "dataset = concatenate_datasets(\n",
    "    [select_columns_and_preprocess(chunk) for chunk in tqdm(files)]\n",
    ")"
   ]
  },
  {
   "cell_type": "code",
   "execution_count": 3,
   "metadata": {},
   "outputs": [
    {
     "data": {
      "text/plain": [
       "Dataset({\n",
       "    features: ['userId', 'geolocationEvents', 'startTime'],\n",
       "    num_rows: 73432\n",
       "})"
      ]
     },
     "execution_count": 3,
     "metadata": {},
     "output_type": "execute_result"
    }
   ],
   "source": [
    "dataset"
   ]
  },
  {
   "cell_type": "code",
   "execution_count": 4,
   "metadata": {},
   "outputs": [
    {
     "data": {
      "application/vnd.jupyter.widget-view+json": {
       "model_id": "32099c70d98f4db7b9d7de19a321f085",
       "version_major": 2,
       "version_minor": 0
      },
      "text/plain": [
       "Uploading the dataset shards:   0%|          | 0/2 [00:00<?, ?it/s]"
      ]
     },
     "metadata": {},
     "output_type": "display_data"
    },
    {
     "data": {
      "application/vnd.jupyter.widget-view+json": {
       "model_id": "b19af52c97a546f69eaa3fe0846cb25c",
       "version_major": 2,
       "version_minor": 0
      },
      "text/plain": [
       "Creating parquet from Arrow format:   0%|          | 0/37 [00:00<?, ?ba/s]"
      ]
     },
     "metadata": {},
     "output_type": "display_data"
    },
    {
     "data": {
      "application/vnd.jupyter.widget-view+json": {
       "model_id": "245b6fdd205d4b57ac82639dd399c6d3",
       "version_major": 2,
       "version_minor": 0
      },
      "text/plain": [
       "Creating parquet from Arrow format:   0%|          | 0/37 [00:00<?, ?ba/s]"
      ]
     },
     "metadata": {},
     "output_type": "display_data"
    },
    {
     "data": {
      "text/plain": [
       "CommitInfo(commit_url='https://huggingface.co/datasets/rik1599/playngo-trips/commit/df14aaa35dd6af67628d256fbe2e124c8fc85f19', commit_message='Upload dataset', commit_description='', oid='df14aaa35dd6af67628d256fbe2e124c8fc85f19', pr_url=None, pr_revision=None, pr_num=None)"
      ]
     },
     "execution_count": 4,
     "metadata": {},
     "output_type": "execute_result"
    }
   ],
   "source": [
    "dataset.push_to_hub(\"rik1599/playngo-trips\")"
   ]
  }
 ],
 "metadata": {
  "kernelspec": {
   "display_name": "Python 3",
   "language": "python",
   "name": "python3"
  },
  "language_info": {
   "codemirror_mode": {
    "name": "ipython",
    "version": 3
   },
   "file_extension": ".py",
   "mimetype": "text/x-python",
   "name": "python",
   "nbconvert_exporter": "python",
   "pygments_lexer": "ipython3",
   "version": "3.12.5"
  }
 },
 "nbformat": 4,
 "nbformat_minor": 2
}
